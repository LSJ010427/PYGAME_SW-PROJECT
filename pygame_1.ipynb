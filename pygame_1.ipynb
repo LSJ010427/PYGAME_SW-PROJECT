{
 "cells": [
  {
   "cell_type": "markdown",
   "metadata": {},
   "source": [
    "# 게임 코드 구조\n",
    "1. 게임 초기화\n",
    "2. 게임창 옵션 설정\n",
    "3. 게임 내 필요한 설정\n",
    "4. 메인 이벤트 *\n",
    "    - FPS(Frame per second) 설정_숫자가 높을 수록 그래픽이 부드러움\n",
    "    - 각종 입력 감지\n",
    "    - 입력, 시간에 따른 변화 *\n",
    "    - 그리기\n",
    "    - 업데이트\n",
    "5. 게임종료"
   ]
  },
  {
   "cell_type": "code",
   "execution_count": 1,
   "metadata": {},
   "outputs": [
    {
     "name": "stdout",
     "output_type": "stream",
     "text": [
      "pygame 2.1.2 (SDL 2.0.18, Python 3.9.7)\n",
      "Hello from the pygame community. https://www.pygame.org/contribute.html\n"
     ]
    }
   ],
   "source": [
    "import pygame\n",
    "\n",
    "\n",
    "# 1. 게임 초기화\n",
    "pygame.init()\n",
    "\n",
    "# 2. 게임창 옵션 설정\n",
    "size = [640, 480]\n",
    "screen = pygame.display.set_mode(size) # 창의 크기\n",
    "\n",
    "title = \"My Game\"\n",
    "pygame.display.set_caption(title) # 창의 제목\n",
    "# 3. 게임 내 필요한 설정\n",
    "clock = pygame.time.Clock() #FPS 설정\n",
    "\n",
    "# 4. 메인 이벤트 *\n",
    "SB = 0\n",
    "while SB == 0:\n",
    "    \n",
    "    # - FPS(Frame per second) 설정_숫자가 높을 수록 그래픽이 부드러움\n",
    "    clock.tick(60)\n",
    "    # - 각종 입력 감지\n",
    "\n",
    "    # - 입력, 시간에 따른 변화 *\n",
    "\n",
    "    # - 그리기\n",
    "\n",
    "    # - 업데이트\n",
    "\n",
    "# 5. 게임종료\n"
   ]
  },
  {
   "cell_type": "code",
   "execution_count": null,
   "metadata": {},
   "outputs": [],
   "source": [
    "import sys\n",
    "import pygame\n",
    "\n",
    "pygame.init()\n",
    "\n",
    "background = pygame.display.set_mode((640, 480))\n",
    "\n",
    "while True:\n",
    "    for event in pygame.event.get():\n",
    "        if event.type == pygame.QUIT:\n",
    "            pygame.quit()\n",
    "            sys.exit()\n"
   ]
  }
 ],
 "metadata": {
  "kernelspec": {
   "display_name": "Python 3 (ipykernel)",
   "language": "python",
   "name": "python3"
  },
  "language_info": {
   "codemirror_mode": {
    "name": "ipython",
    "version": 3
   },
   "file_extension": ".py",
   "mimetype": "text/x-python",
   "name": "python",
   "nbconvert_exporter": "python",
   "pygments_lexer": "ipython3",
   "version": "3.9.7"
  },
  "orig_nbformat": 2
 },
 "nbformat": 4,
 "nbformat_minor": 2
}